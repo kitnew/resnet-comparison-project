{
 "cells": [
  {
   "cell_type": "code",
   "execution_count": 2,
   "id": "f06bcc09",
   "metadata": {},
   "outputs": [],
   "source": [
    "%run setup\n",
    "from src.utils.visualization import plot_loss, plot_accuracy, plot_lr, plot_training_curves\n",
    "import json\n",
    "\n",
    "with open(\"../results/resnet152/logs/training_log_2025-06-03_22-08-29.json\", \"r\") as f:\n",
    "    history = json.load(f)\n",
    "\n",
    "plot_loss(history, folder=\"../results/resnet152/figures/training\")\n",
    "plot_accuracy(history, folder=\"../results/resnet152/figures/training\")\n",
    "plot_lr(history, folder=\"../results/resnet152/figures/training\")\n",
    "plot_training_curves(history, folder=\"../results/resnet152/figures/training\")\n"
   ]
  }
 ],
 "metadata": {
  "kernelspec": {
   "display_name": ".venv",
   "language": "python",
   "name": "python3"
  },
  "language_info": {
   "codemirror_mode": {
    "name": "ipython",
    "version": 3
   },
   "file_extension": ".py",
   "mimetype": "text/x-python",
   "name": "python",
   "nbconvert_exporter": "python",
   "pygments_lexer": "ipython3",
   "version": "3.13.3"
  }
 },
 "nbformat": 4,
 "nbformat_minor": 5
}
